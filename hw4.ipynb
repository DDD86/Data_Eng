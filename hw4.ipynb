{
  "nbformat": 4,
  "nbformat_minor": 0,
  "metadata": {
    "colab": {
      "provenance": [],
      "authorship_tag": "ABX9TyPV/J8e2RaeC7gZdQ0ixqpt",
      "include_colab_link": true
    },
    "kernelspec": {
      "name": "python3",
      "display_name": "Python 3"
    },
    "language_info": {
      "name": "python"
    }
  },
  "cells": [
    {
      "cell_type": "markdown",
      "metadata": {
        "id": "view-in-github",
        "colab_type": "text"
      },
      "source": [
        "<a href=\"https://colab.research.google.com/github/DDD86/Data_Eng/blob/main/hw4.ipynb\" target=\"_parent\"><img src=\"https://colab.research.google.com/assets/colab-badge.svg\" alt=\"Open In Colab\"/></a>"
      ]
    },
    {
      "cell_type": "code",
      "execution_count": 1,
      "metadata": {
        "id": "5cNEjZSjBmeY"
      },
      "outputs": [],
      "source": [
        "import pandas as pd"
      ]
    },
    {
      "cell_type": "code",
      "source": [
        "data = [\n",
        "    {'movies_type': 'Action', 'director': 'Director A', 'year_of_issue': 1985, 'length_in_minutes': 90, 'rate': 6.5},\n",
        "    {'movies_type': 'Comedy', 'director': 'Director B', 'year_of_issue': 1995, 'length_in_minutes': 110, 'rate': 7.8},\n",
        "    {'movies_type': 'Drama', 'director': 'Director C', 'year_of_issue': 2005, 'length_in_minutes': 120, 'rate': 9.0},\n",
        "    {'movies_type': 'Horror', 'director': 'Director D', 'year_of_issue': 2015, 'length_in_minutes': 85, 'rate': 5.0},\n",
        "    {'movies_type': 'Action', 'director': 'Director E', 'year_of_issue': 2021, 'length_in_minutes': 150, 'rate': 7.0},\n",
        "    {'movies_type': 'Comedy', 'director': 'Director F', 'year_of_issue': 1989, 'length_in_minutes': 75, 'rate': 4.5},\n",
        "    {'movies_type': 'Sci-Fi', 'director': 'Director G', 'year_of_issue': 1997, 'length_in_minutes': 130, 'rate': 8.5},\n",
        "    {'movies_type': 'Romance', 'director': 'Director H', 'year_of_issue': 2003, 'length_in_minutes': 100, 'rate': 6.0},\n",
        "    {'movies_type': 'Drama', 'director': 'Director I', 'year_of_issue': 2018, 'length_in_minutes': 140, 'rate': 7.9},\n",
        "    {'movies_type': 'Horror', 'director': 'Director J', 'year_of_issue': 2022, 'length_in_minutes': 60, 'rate': 3.5},\n",
        "    # Добавляем фильмы с рейтингом выше 10\n",
        "    {'movies_type': 'Action', 'director': 'Director K', 'year_of_issue': 2023, 'length_in_minutes': 135, 'rate': 11.5},\n",
        "    {'movies_type': 'Drama', 'director': 'Director L', 'year_of_issue': 2023, 'length_in_minutes': 155, 'rate': 12.0},\n",
        "]\n",
        "\n",
        "df = pd.DataFrame(data)"
      ],
      "metadata": {
        "id": "Y4UNmuggBuzu"
      },
      "execution_count": 2,
      "outputs": []
    },
    {
      "cell_type": "code",
      "source": [
        "def partition_by_year(df):\n",
        "    bins = [0, 1990, 2000, 2010, 2020, 9999]\n",
        "    labels = ['Before 1990', '1990-2000', '2000-2010', '2010-2020', 'After 2020']\n",
        "    df['year_partition'] = pd.cut(df['year_of_issue'], bins=bins, labels=labels, right=False)\n",
        "    return df\n",
        "\n",
        "def partition_by_length(df):\n",
        "    bins = [0, 40, 90, 130, 9999]\n",
        "    labels = ['<=40', '40-90', '90-130', '>130']\n",
        "    df['length_partition'] = pd.cut(df['length_in_minutes'], bins=bins, labels=labels, right=False)\n",
        "    return df\n",
        "\n",
        "def partition_by_rate(df):\n",
        "    bins = [0, 5, 8, 10, 9999]\n",
        "    labels = ['<5', '5-8', '8-10', '>10']\n",
        "    df['rate_partition'] = pd.cut(df['rate'], bins=bins, labels=labels, right=False)\n",
        "    return df"
      ],
      "metadata": {
        "id": "a8KngXREBwsU"
      },
      "execution_count": 3,
      "outputs": []
    },
    {
      "cell_type": "code",
      "source": [
        "df = partition_by_year(df)\n",
        "df = partition_by_length(df)\n",
        "df = partition_by_rate(df)"
      ],
      "metadata": {
        "id": "jyTXqm_LB6W0"
      },
      "execution_count": 4,
      "outputs": []
    },
    {
      "cell_type": "code",
      "source": [
        "partitions_by_year = {label: df[df['year_partition'] == label] for label in df['year_partition'].unique()}\n",
        "partitions_by_length = {label: df[df['length_partition'] == label] for label in df['length_partition'].unique()}\n",
        "partitions_by_rate = {label: df[df['rate_partition'] == label] for label in df['rate_partition'].unique()}"
      ],
      "metadata": {
        "id": "GoTknSamB_Wl"
      },
      "execution_count": 5,
      "outputs": []
    },
    {
      "cell_type": "code",
      "source": [
        "print(\"Партиции по году выпуска:\")\n",
        "for label, partition in partitions_by_year.items():\n",
        "    print(f\"\\n{label} ({len(partition)} movies):\")\n",
        "    print(partition[['movies_type', 'director', 'year_of_issue', 'length_in_minutes', 'rate']])"
      ],
      "metadata": {
        "colab": {
          "base_uri": "https://localhost:8080/"
        },
        "id": "Rn3wHmEhCAMd",
        "outputId": "3a6c1806-86ef-4fa9-e45d-c261c9818be9"
      },
      "execution_count": 6,
      "outputs": [
        {
          "output_type": "stream",
          "name": "stdout",
          "text": [
            "Партиции по году выпуска:\n",
            "\n",
            "Before 1990 (2 movies):\n",
            "  movies_type    director  year_of_issue  length_in_minutes  rate\n",
            "0      Action  Director A           1985                 90   6.5\n",
            "5      Comedy  Director F           1989                 75   4.5\n",
            "\n",
            "1990-2000 (2 movies):\n",
            "  movies_type    director  year_of_issue  length_in_minutes  rate\n",
            "1      Comedy  Director B           1995                110   7.8\n",
            "6      Sci-Fi  Director G           1997                130   8.5\n",
            "\n",
            "2000-2010 (2 movies):\n",
            "  movies_type    director  year_of_issue  length_in_minutes  rate\n",
            "2       Drama  Director C           2005                120   9.0\n",
            "7     Romance  Director H           2003                100   6.0\n",
            "\n",
            "2010-2020 (2 movies):\n",
            "  movies_type    director  year_of_issue  length_in_minutes  rate\n",
            "3      Horror  Director D           2015                 85   5.0\n",
            "8       Drama  Director I           2018                140   7.9\n",
            "\n",
            "After 2020 (4 movies):\n",
            "   movies_type    director  year_of_issue  length_in_minutes  rate\n",
            "4       Action  Director E           2021                150   7.0\n",
            "9       Horror  Director J           2022                 60   3.5\n",
            "10      Action  Director K           2023                135  11.5\n",
            "11       Drama  Director L           2023                155  12.0\n"
          ]
        }
      ]
    },
    {
      "cell_type": "code",
      "source": [
        "print(\"\\nПартиции по длине фильма:\")\n",
        "for label, partition in partitions_by_length.items():\n",
        "    print(f\"\\n{label} ({len(partition)} movies):\")\n",
        "    print(partition[['movies_type', 'director', 'year_of_issue', 'length_in_minutes', 'rate']])"
      ],
      "metadata": {
        "colab": {
          "base_uri": "https://localhost:8080/"
        },
        "id": "_WxluN2hCFVN",
        "outputId": "32a411e3-bce3-4ece-b223-16ce536b99c9"
      },
      "execution_count": 7,
      "outputs": [
        {
          "output_type": "stream",
          "name": "stdout",
          "text": [
            "\n",
            "Партиции по длине фильма:\n",
            "\n",
            "90-130 (4 movies):\n",
            "  movies_type    director  year_of_issue  length_in_minutes  rate\n",
            "0      Action  Director A           1985                 90   6.5\n",
            "1      Comedy  Director B           1995                110   7.8\n",
            "2       Drama  Director C           2005                120   9.0\n",
            "7     Romance  Director H           2003                100   6.0\n",
            "\n",
            "40-90 (3 movies):\n",
            "  movies_type    director  year_of_issue  length_in_minutes  rate\n",
            "3      Horror  Director D           2015                 85   5.0\n",
            "5      Comedy  Director F           1989                 75   4.5\n",
            "9      Horror  Director J           2022                 60   3.5\n",
            "\n",
            ">130 (5 movies):\n",
            "   movies_type    director  year_of_issue  length_in_minutes  rate\n",
            "4       Action  Director E           2021                150   7.0\n",
            "6       Sci-Fi  Director G           1997                130   8.5\n",
            "8        Drama  Director I           2018                140   7.9\n",
            "10      Action  Director K           2023                135  11.5\n",
            "11       Drama  Director L           2023                155  12.0\n"
          ]
        }
      ]
    },
    {
      "cell_type": "code",
      "source": [
        "print(\"\\nПартиции по рейтингу:\")\n",
        "for label, partition in partitions_by_rate.items():\n",
        "    print(f\"\\n{label} ({len(partition)} movies):\")\n",
        "    print(partition[['movies_type', 'director', 'year_of_issue', 'length_in_minutes', 'rate']])"
      ],
      "metadata": {
        "colab": {
          "base_uri": "https://localhost:8080/"
        },
        "id": "x2GRll2vCKJF",
        "outputId": "b8163419-e30b-45ea-a55c-93e398029971"
      },
      "execution_count": 8,
      "outputs": [
        {
          "output_type": "stream",
          "name": "stdout",
          "text": [
            "\n",
            "Партиции по рейтингу:\n",
            "\n",
            "5-8 (6 movies):\n",
            "  movies_type    director  year_of_issue  length_in_minutes  rate\n",
            "0      Action  Director A           1985                 90   6.5\n",
            "1      Comedy  Director B           1995                110   7.8\n",
            "3      Horror  Director D           2015                 85   5.0\n",
            "4      Action  Director E           2021                150   7.0\n",
            "7     Romance  Director H           2003                100   6.0\n",
            "8       Drama  Director I           2018                140   7.9\n",
            "\n",
            "8-10 (2 movies):\n",
            "  movies_type    director  year_of_issue  length_in_minutes  rate\n",
            "2       Drama  Director C           2005                120   9.0\n",
            "6      Sci-Fi  Director G           1997                130   8.5\n",
            "\n",
            "<5 (2 movies):\n",
            "  movies_type    director  year_of_issue  length_in_minutes  rate\n",
            "5      Comedy  Director F           1989                 75   4.5\n",
            "9      Horror  Director J           2022                 60   3.5\n",
            "\n",
            ">10 (2 movies):\n",
            "   movies_type    director  year_of_issue  length_in_minutes  rate\n",
            "10      Action  Director K           2023                135  11.5\n",
            "11       Drama  Director L           2023                155  12.0\n"
          ]
        }
      ]
    }
  ]
}